{
 "cells": [
  {
   "cell_type": "code",
   "execution_count": null,
   "id": "bdd53c56",
   "metadata": {
    "name": "Skip this test and this will install required python libs"
   },
   "outputs": [],
   "source": [
    "# NBVAL_IGNORE_OUTPUT\n",
    "\n",
    "!pip install -r requirements-unit-test.txt"
   ]
  },
  {
   "cell_type": "code",
   "execution_count": null,
   "id": "212d2b48-7999-4aeb-bbfb-95ee5b2c365f",
   "metadata": {
    "name": "Skip this test and this will import required packages"
   },
   "outputs": [],
   "source": [
    "# NBVAL_IGNORE_OUTPUT\n",
    "\n",
    "import os\n",
    "from pathlib import Path\n",
    "import pandas as pd\n",
    "import json\n",
    "import traceback\n",
    "import math\n",
    "\n",
    "RISK_SCORE_SERVICE_PACKAGE_PATH = str(Path(os.getcwd()).parents[2])\n",
    "import sys\n",
    "if RISK_SCORE_SERVICE_PACKAGE_PATH not in sys.path:\n",
    "    sys.path.insert(1, RISK_SCORE_SERVICE_PACKAGE_PATH)\n",
    "\n",
    "from v1 import custom_functions\n",
    "from v1.score_model import risk_score_calculate\n",
    "\n",
    "data_files_root_dir = os.path.join('data')"
   ]
  },
  {
   "cell_type": "code",
   "execution_count": null,
   "id": "840bfe5e",
   "metadata": {
    "name": "Skip this test and this will install required python testing libs"
   },
   "outputs": [],
   "source": [
    "# NBVAL_IGNORE_OUTPUT\n",
    "import pytest,ipytest,nbval\n",
    "# ipytest.autoconfig(raise_on_error=True)\n",
    "ipytest.autoconfig(raise_on_error=False)\n",
    "ipytest.clean_tests(pattern='[Tt]est*', items=None)"
   ]
  },
  {
   "cell_type": "markdown",
   "id": "35f49aec-165d-47ad-a606-5e888a1815dc",
   "metadata": {},
   "source": [
    "### Positive (with all expected actual vaules)"
   ]
  },
  {
   "cell_type": "code",
   "execution_count": null,
   "id": "86ae3539-d281-43c3-901b-390bce465b4b",
   "metadata": {},
   "outputs": [],
   "source": [
    "%%ipytest -vv\n",
    "# NBVAL_CHECK_OUTPUT\n",
    "\n",
    "risk_score_id = \"38__Framingham\"\n",
    "attributes = {\n",
    "    \"claudication\": \"Yes\",\n",
    "    \"cad\": \"No\",\n",
    "    \"diabetes\": \"No\",\n",
    "    \"age\": \"56\",\n",
    "    \"sex\": \"Female\",\n",
    "    \"smoker\": \"Yes\",\n",
    "    \"cholesterol\": {\"VALUES\": 180, \"UNIT\": \"mg/dL\"},\n",
    "    \"hdl_cholesterol\": {\"VALUES\": 55, \"UNIT\": \"mg/dL\"},\n",
    "    \"systolic_bp\": {\"VALUES\": 130, \"UNIT\": \"mm Hg\"},\n",
    "    \"blood_pressure\": \"Yes\"\n",
    "}\n",
    "result = risk_score_calculate.calculate_score(risk_score_id, attributes)\n",
    "print(result)\n",
    "\n",
    "def test_framingham_risk_score_positive_all_expected_actual_values():\n",
    "    assert result['SCORE']['TYPE'] == \"NUMBER\"\n",
    "    assert result['SCORE']['VALUE'] == 4.2\n",
    "    assert result['SCORE']['UNIT'] == \"%\"\n",
    "\n",
    "# ipytest.run('-v')"
   ]
  },
  {
   "cell_type": "markdown",
   "id": "2d83d601",
   "metadata": {},
   "source": [
    "### Scenario with cad attribute value set as Yes instead of No"
   ]
  },
  {
   "cell_type": "code",
   "execution_count": null,
   "id": "f924c288",
   "metadata": {},
   "outputs": [],
   "source": [
    "%%ipytest -vv\n",
    "# NBVAL_CHECK_OUTPUT\n",
    "\n",
    "risk_score_id = \"38__Framingham\"\n",
    "attributes = {\n",
    "    \"claudication\": \"Yes\",\n",
    "    \"cad\": \"Yes\",\n",
    "    \"diabetes\": \"No\",\n",
    "    \"age\": \"56\",\n",
    "    \"sex\": \"Female\",\n",
    "    \"smoker\": \"Yes\",\n",
    "    \"cholesterol\": {\"VALUES\": 180, \"UNIT\": \"mg/dL\"},\n",
    "    \"hdl_cholesterol\": {\"VALUES\": 55, \"UNIT\": \"mg/dL\"},\n",
    "    \"systolic_bp\": {\"VALUES\": 130, \"UNIT\": \"mm Hg\"},\n",
    "    \"blood_pressure\": \"Yes\"\n",
    "}\n",
    "result = risk_score_calculate.calculate_score(risk_score_id, attributes)\n",
    "print(result)\n",
    "\n",
    "\n",
    "def test_framingham_risk_score_cad_set_as_yes():\n",
    "    assert result['SCORE']['TYPE'] == None\n",
    "    assert result['SCORE']['VALUE'] == None\n",
    "    assert result['SCORE']['UNIT'] == None\n",
    "\n",
    "# ipytest.run('-v')"
   ]
  },
  {
   "cell_type": "code",
   "execution_count": null,
   "id": "2c9031ce",
   "metadata": {},
   "outputs": [],
   "source": []
  }
 ],
 "metadata": {
  "kernelspec": {
   "display_name": "Python 3",
   "language": "python",
   "name": "python3"
  },
  "language_info": {
   "codemirror_mode": {
    "name": "ipython",
    "version": 3
   },
   "file_extension": ".py",
   "mimetype": "text/x-python",
   "name": "python",
   "nbconvert_exporter": "python",
   "pygments_lexer": "ipython3",
   "version": "3.8.8"
  }
 },
 "nbformat": 4,
 "nbformat_minor": 5
}
